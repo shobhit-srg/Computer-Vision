{
 "cells": [
  {
   "cell_type": "code",
   "execution_count": 1,
   "metadata": {},
   "outputs": [],
   "source": [
    "import cv2\n",
    "import numpy as np\n",
    "import os"
   ]
  },
  {
   "cell_type": "code",
   "execution_count": 2,
   "metadata": {},
   "outputs": [],
   "source": [
    "def framesToVideo(frame_folder, video_path, fps):\n",
    "    if frame_folder.endswith('/'):\n",
    "        frame_folder = frame_folder[0: len(frame_folder) - 1]\n",
    "    files = os.listdir(frame_folder)\n",
    "    files.sort()\n",
    "    frame_size = -1\n",
    "    output = -1\n",
    "    for f in files:\n",
    "        if f.endswith('.png') or f.endswith('.jpg') or f.endswith('.jpeg'):\n",
    "            frame = cv2.imread(frame_folder + '/' + f)\n",
    "            if frame_size == -1:\n",
    "                height, width, channels = frame.shape\n",
    "                frame_size = (width, height)\n",
    "                print(frame_size)\n",
    "                output = cv2.VideoWriter(video_path, cv2.VideoWriter_fourcc(*'DIVX'), fps, frame_size)\n",
    "            else:\n",
    "                output.write(frame)\n",
    "    output.release()"
   ]
  },
  {
   "cell_type": "code",
   "execution_count": 3,
   "metadata": {},
   "outputs": [],
   "source": [
    "def frameName(c, m):\n",
    "    cnt = 0\n",
    "    cpy = c\n",
    "    while c > 0:\n",
    "        c = c // 10\n",
    "        cnt = cnt + 1\n",
    "    res = \"frame\"\n",
    "    for i in range(m - cnt):\n",
    "        res = res + \"0\"\n",
    "    res = res + str(cpy)\n",
    "    return res + \".jpg\"\n",
    "\n",
    "def videoToFrame(video_path, frame_folder):\n",
    "    if frame_folder.endswith('/'):\n",
    "        frame_folder = frame_folder[0: len(frame_folder) - 1]\n",
    "    video = cv2.VideoCapture(video_path)\n",
    "    success, image = video.read()\n",
    "    count = 1\n",
    "    while success:\n",
    "        cv2.imwrite(frame_folder + '/' + frameName(count, 4), image)\n",
    "        success, image = video.read()\n",
    "        count = count + 1"
   ]
  },
  {
   "cell_type": "code",
   "execution_count": 4,
   "metadata": {},
   "outputs": [],
   "source": [
    "def captureVideo(frame_folder):\n",
    "    if frame_folder.endswith('/'):\n",
    "        frame_folder = frame_folder[0: len(frame_folder) - 1]\n",
    "    cap = cv2.VideoCapture(0)\n",
    "    count = 1\n",
    "    while(True):\n",
    "        ret, frame = cap.read()\n",
    "        cv2.imshow('frame', frame)\n",
    "        cv2.imwrite(frame_folder + '/' + frameName(count, 4), frame)\n",
    "        if cv2.waitKey(1) & 0xFF == ord('q'):\n",
    "            break\n",
    "        count = count + 1\n",
    "    cap.release()\n",
    "    cv2.destroyAllWindows()"
   ]
  },
  {
   "cell_type": "code",
   "execution_count": 5,
   "metadata": {},
   "outputs": [],
   "source": [
    "# framesToVideo('/home/tapas/135_0165', '/home/tapas/output.mp4', 50)\n",
    "# videoToFrame('/home/tapas/output.mp4', '/home/tapas/test')\n",
    "# captureVideo('/home/tapas/test/')"
   ]
  },
  {
   "cell_type": "code",
   "execution_count": 6,
   "metadata": {},
   "outputs": [],
   "source": [
    "def most_frequent_color(im):\n",
    "    if len(im.shape) == 3:\n",
    "        u, c = np.unique(im.reshape([1, -1, 3]), axis = 1, return_counts=True)\n",
    "        t = list(zip(c, u[0]))\n",
    "        t = sorted(t, key = lambda x : x[0])\n",
    "        return t[len(t) - 1][1]\n",
    "    else:\n",
    "        print(\"Grayscale image doesn't make sense here!\")\n",
    "\n",
    "def mergeImage(fg, bg, threshold):\n",
    "    color = most_frequent_color(fg)\n",
    "    fg = fg.astype(np.float64)\n",
    "    bg = bg.astype(np.float64)\n",
    "    img = np.zeros(fg.shape)\n",
    "    for i in range(len(fg)):\n",
    "        for j in range(len(fg[0])):\n",
    "            if abs(fg[i][j][0] - color[0]) + abs(fg[i][j][1] - color[1]) + abs(fg[i][j][2] - color[2]) <= threshold:\n",
    "                img[i][j] = bg[i][j]\n",
    "            else:\n",
    "                img[i][j] = fg[i][j]\n",
    "    return img.astype(np.uint8)"
   ]
  },
  {
   "cell_type": "code",
   "execution_count": 10,
   "metadata": {},
   "outputs": [],
   "source": [
    "fg = cv2.imread('/home/tapas/fg.jpg')\n",
    "bg = cv2.imread('/home/tapas/bg.jpg')\n",
    "out = mergeImage(fg, bg, 211)\n",
    "cv2.imwrite('/home/tapas/output.png', out)\n",
    "cv2.imshow('fig', out)"
   ]
  },
  {
   "cell_type": "code",
   "execution_count": null,
   "metadata": {},
   "outputs": [],
   "source": []
  }
 ],
 "metadata": {
  "kernelspec": {
   "display_name": "Base",
   "language": "python",
   "name": "myenv"
  },
  "language_info": {
   "codemirror_mode": {
    "name": "ipython",
    "version": 3
   },
   "file_extension": ".py",
   "mimetype": "text/x-python",
   "name": "python",
   "nbconvert_exporter": "python",
   "pygments_lexer": "ipython3",
   "version": "3.7.4"
  }
 },
 "nbformat": 4,
 "nbformat_minor": 2
}
