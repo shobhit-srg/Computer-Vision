{
 "cells": [
  {
   "cell_type": "code",
   "execution_count": 1,
   "metadata": {},
   "outputs": [],
   "source": [
    "import cv2\n",
    "from matplotlib import pyplot as plt\n",
    "import numpy as np\n",
    "import glob\n",
    "import math\n",
    "import random"
   ]
  },
  {
   "cell_type": "markdown",
   "metadata": {},
   "source": [
    "# Direct Linear Transform(DLT)"
   ]
  },
  {
   "cell_type": "code",
   "execution_count": 2,
   "metadata": {},
   "outputs": [
    {
     "data": {
      "text/plain": [
       "<matplotlib.image.AxesImage at 0x7fc128fc3790>"
      ]
     },
     "execution_count": 2,
     "metadata": {},
     "output_type": "execute_result"
    }
   ],
   "source": [
    "calib_img = cv2.imread('../input_data/calib-object.jpg')\n",
    "%matplotlib qt \n",
    "plt.imshow(calib_img)"
   ]
  },
  {
   "cell_type": "code",
   "execution_count": 5,
   "metadata": {},
   "outputs": [],
   "source": [
    "\"\"\"X represents set of world coordinates, x represents set of image coordinates\"\"\"\n",
    "def dlt(X, x):\n",
    "    M = np.zeros((2 * len(x), 12))\n",
    "    for i in range(len(x)):\n",
    "        M[2 * i][0] = -X[i][0]\n",
    "        M[2 * i][1] = -X[i][1]\n",
    "        M[2 * i][2] = -X[i][2]\n",
    "        M[2 * i][3] = -1\n",
    "        M[2 * i][4] = 0\n",
    "        M[2 * i][5] = 0\n",
    "        M[2 * i][6] = 0\n",
    "        M[2 * i][7] = 0\n",
    "        M[2 * i][8] = x[i][0] * X[i][0]\n",
    "        M[2 * i][9] = x[i][0] * X[i][1]\n",
    "        M[2 * i][10] = x[i][0] * X[i][2]\n",
    "        M[2 * i][11] = x[i][0]\n",
    "\n",
    "        M[2 * i + 1][0] = 0\n",
    "        M[2 * i + 1][1] = 0\n",
    "        M[2 * i + 1][2] = 0\n",
    "        M[2 * i + 1][3] = 0\n",
    "        M[2 * i + 1][4] = -X[i][0]\n",
    "        M[2 * i + 1][5] = -X[i][1]\n",
    "        M[2 * i + 1][6] = -X[i][2]\n",
    "        M[2 * i + 1][7] = -1\n",
    "        M[2 * i + 1][8] = x[i][1] * X[i][0]\n",
    "        M[2 * i + 1][9] = x[i][1] * X[i][1]\n",
    "        M[2 * i + 1][10] = x[i][1] * X[i][2]\n",
    "        M[2 * i + 1][11] = x[i][1]\n",
    "    u, s, v = np.linalg.svd(M)\n",
    "    P = v[11].reshape((3, 4))\n",
    "    KR = P[:, 0:3]\n",
    "    minus_KRC = P[:, 3]\n",
    "    C = np.dot(-np.linalg.inv(KR), minus_KRC)\n",
    "    ################ Decide which to keep ##################################\n",
    "    \"\"\" Option 1 \"\"\"\n",
    "    R_T, K_cap_inv = np.linalg.qr(np.linalg.inv(KR))\n",
    "    R = R_T.T\n",
    "    K_cap = np.linalg.inv(K_cap_inv)\n",
    "    K = K_cap / K_cap[2, 2]\n",
    "    \"\"\" Option 2 \"\"\"\n",
    "#     R, K_cap = np.linalg.qr(KR)\n",
    "#     K = K_cap / K_cap[2, 2]\n",
    "    ##################################################\n",
    "    return P, C, K, R"
   ]
  },
  {
   "cell_type": "code",
   "execution_count": 30,
   "metadata": {},
   "outputs": [
    {
     "name": "stdout",
     "output_type": "stream",
     "text": [
      "Projection Matrix : \n",
      " [[ 1.08705782e-03  2.54977186e-04 -2.78833812e-03  6.95493439e-01]\n",
      " [-5.87153430e-04  2.98849545e-03 -5.84591121e-04  7.18519335e-01]\n",
      " [-5.26797446e-07  1.61152247e-07 -5.12468957e-07  4.51147055e-04]] \n",
      "\n",
      "Projection Center : \n",
      " [433.21779347 -74.82221824 411.48104003] \n",
      "\n",
      "Camera Matrix : \n",
      " [[3.66376509e+03 1.21994004e+01 1.58514696e+03]\n",
      " [0.00000000e+00 3.64393861e+03 1.92630130e+03]\n",
      " [0.00000000e+00 0.00000000e+00 1.00000000e+00]] \n",
      "\n",
      "Rotation Matrix : \n",
      " [[-0.69674911  0.00342397  0.71730673]\n",
      " [-0.15596734 -0.97678745 -0.14683484]\n",
      " [ 0.70015346 -0.21418347  0.68110982]] \n",
      "\n"
     ]
    }
   ],
   "source": [
    "x = []\n",
    "X = []\n",
    "def add_point(px_coord, world_coord):\n",
    "    x.append(px_coord)\n",
    "    X.append(world_coord)\n",
    "\n",
    "\n",
    "add_point([1409, 1606], [0, 0, 28])\n",
    "add_point([1134, 1640], [0, 0, 84])\n",
    "add_point([1662, 1610], [28, 0, 0])\n",
    "add_point([1932, 1644], [84, 0, 0])\n",
    "add_point([1666, 1784], [28, 28, 0])\n",
    "add_point([2412, 1917], [168, 28, 0])\n",
    "\n",
    "add_point([1545, 1591], [0, 0, 0])\n",
    "add_point([1789, 1983], [56, 56, 0])\n",
    "add_point([2245, 1685], [140, 0, 0])\n",
    "add_point([1412, 1781], [0, 28, 28])\n",
    "add_point([1280, 1977], [0, 56, 56])\n",
    "add_point([1794, 1627], [56, 0, 0])\n",
    "add_point([1279, 1623], [0, 0, 56])\n",
    "\n",
    "\n",
    "add_point([1658, 2903], [28, 224, 0])\n",
    "add_point([1777, 2960], [56, 224, 0])\n",
    "add_point([1905, 3021], [84, 224, 0])\n",
    "add_point([1161, 2855], [0, 196, 84])\n",
    "add_point([857, 2802], [0, 168, 140])\n",
    "add_point([1545, 2399], [0, 140, 0])\n",
    "add_point([2599, 1949], [196, 28, 0])\n",
    "# add_point([1923, 2012], [84, 56, 0])\n",
    "\n",
    "P, C, K, R = dlt(X, x)\n",
    "print(\"Projection Matrix : \\n\", P, \"\\n\")\n",
    "print(\"Projection Center : \\n\", C, \"\\n\")\n",
    "print(\"Camera Matrix : \\n\", K, \"\\n\")\n",
    "print(\"Rotation Matrix : \\n\", R, \"\\n\")"
   ]
  },
  {
   "cell_type": "markdown",
   "metadata": {},
   "source": [
    "# Zhangs Method"
   ]
  },
  {
   "cell_type": "code",
   "execution_count": 25,
   "metadata": {},
   "outputs": [
    {
     "name": "stdout",
     "output_type": "stream",
     "text": [
      "[1136.0684 2769.522 ]\n",
      "[1528.  2792.5]\n"
     ]
    }
   ],
   "source": [
    "# Visualizing the corners\n",
    "img = cv2.imread('../input_data/IMG_5457.JPG')\n",
    "ret, corners = cv2.findChessboardCorners(img,(6, 8))\n",
    "corners = corners.reshape(-1,2)\n",
    "\n",
    "img_copy = img.copy()\n",
    "cv2.drawChessboardCorners(img_copy, (6, 8), corners, ret)\n",
    "plt.imshow(img_copy)\n",
    "print(corners[0])\n",
    "print(corners[6])"
   ]
  },
  {
   "cell_type": "code",
   "execution_count": 26,
   "metadata": {},
   "outputs": [],
   "source": [
    "x,y = np.meshgrid(range(6),range(8))\n",
    "world_points = np.hstack((x.reshape(48, 1),y.reshape(48, 1),np.zeros((48, 1)))).astype(np.float32)"
   ]
  },
  {
   "cell_type": "code",
   "execution_count": 31,
   "metadata": {},
   "outputs": [
    {
     "name": "stdout",
     "output_type": "stream",
     "text": [
      "Camera Matrix : \n",
      " [[1.36634814e+04 0.00000000e+00 3.33651179e+03]\n",
      " [0.00000000e+00 1.36813888e+04 1.49657922e+03]\n",
      " [0.00000000e+00 0.00000000e+00 1.00000000e+00]] \n",
      "\n",
      "Reprojection error :  2.4810222497142798 \n",
      "\n"
     ]
    }
   ],
   "source": [
    "_3d = []\n",
    "_2d = []\n",
    "for name in range(5456, 5471):\n",
    "    img = cv2.imread('../input_data/IMG_' + str(name) + '.JPG')\n",
    "    ret, corners = cv2.findChessboardCorners(img,(6, 8))\n",
    "    if ret is True:\n",
    "        _2d.append(corners)\n",
    "        _3d.append(world_points)\n",
    "ret, mtx, dist, rvecs, tvecs = cv2.calibrateCamera(_3d, _2d, (img.shape[1],img.shape[0]), None, None)\n",
    "print(\"Camera Matrix : \\n\", mtx, \"\\n\")\n",
    "print(\"Reprojection error : \", ret, \"\\n\")"
   ]
  },
  {
   "cell_type": "code",
   "execution_count": null,
   "metadata": {},
   "outputs": [],
   "source": []
  }
 ],
 "metadata": {
  "kernelspec": {
   "display_name": "Base",
   "language": "python",
   "name": "myenv"
  },
  "language_info": {
   "codemirror_mode": {
    "name": "ipython",
    "version": 3
   },
   "file_extension": ".py",
   "mimetype": "text/x-python",
   "name": "python",
   "nbconvert_exporter": "python",
   "pygments_lexer": "ipython3",
   "version": "3.7.4"
  }
 },
 "nbformat": 4,
 "nbformat_minor": 2
}
