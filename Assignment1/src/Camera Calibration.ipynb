{
 "cells": [
  {
   "cell_type": "code",
   "execution_count": 1,
   "metadata": {},
   "outputs": [],
   "source": [
    "import cv2\n",
    "from matplotlib import pyplot as plt\n",
    "import numpy as np\n",
    "import glob\n",
    "import math\n",
    "import random"
   ]
  },
  {
   "cell_type": "markdown",
   "metadata": {},
   "source": [
    "# Direct Linear Transform(DLT)"
   ]
  },
  {
   "cell_type": "code",
   "execution_count": 2,
   "metadata": {},
   "outputs": [
    {
     "data": {
      "text/plain": [
       "<matplotlib.image.AxesImage at 0x7f58fc006510>"
      ]
     },
     "execution_count": 2,
     "metadata": {},
     "output_type": "execute_result"
    }
   ],
   "source": [
    "calib_img = cv2.imread('../input_data/calib-object.jpg')\n",
    "%matplotlib qt \n",
    "plt.imshow(calib_img)"
   ]
  },
  {
   "cell_type": "code",
   "execution_count": 3,
   "metadata": {},
   "outputs": [],
   "source": [
    "\"\"\"X represents set of world coordinates, x represents set of image coordinates\"\"\"\n",
    "def dlt(X, x):\n",
    "    M = np.zeros((2 * len(x), 12))\n",
    "    for i in range(len(x)):\n",
    "        M[2 * i][0] = -X[i][0]\n",
    "        M[2 * i][1] = -X[i][1]\n",
    "        M[2 * i][2] = -X[i][2]\n",
    "        M[2 * i][3] = -1\n",
    "        M[2 * i][4] = 0\n",
    "        M[2 * i][5] = 0\n",
    "        M[2 * i][6] = 0\n",
    "        M[2 * i][7] = 0\n",
    "        M[2 * i][8] = x[i][0] * X[i][0]\n",
    "        M[2 * i][9] = x[i][0] * X[i][1]\n",
    "        M[2 * i][10] = x[i][0] * X[i][2]\n",
    "        M[2 * i][11] = x[i][0]\n",
    "\n",
    "        M[2 * i + 1][0] = 0\n",
    "        M[2 * i + 1][1] = 0\n",
    "        M[2 * i + 1][2] = 0\n",
    "        M[2 * i + 1][3] = 0\n",
    "        M[2 * i + 1][4] = -X[i][0]\n",
    "        M[2 * i + 1][5] = -X[i][1]\n",
    "        M[2 * i + 1][6] = -X[i][2]\n",
    "        M[2 * i + 1][7] = -1\n",
    "        M[2 * i + 1][8] = x[i][1] * X[i][0]\n",
    "        M[2 * i + 1][9] = x[i][1] * X[i][1]\n",
    "        M[2 * i + 1][10] = x[i][1] * X[i][2]\n",
    "        M[2 * i + 1][11] = x[i][1]\n",
    "    try:\n",
    "        u, s, v = np.linalg.svd(M)\n",
    "        P = v[11].reshape((3, 4))\n",
    "        KR = P[:, 0:3]\n",
    "        minus_KRC = P[:, 3]\n",
    "        C = np.dot(-np.linalg.inv(KR), minus_KRC)\n",
    "        R_T, K_cap_inv = np.linalg.qr(np.linalg.inv(KR))\n",
    "        R = R_T.T\n",
    "        K_cap = np.linalg.inv(K_cap_inv)\n",
    "        K = K_cap / K_cap[2, 2]\n",
    "        return P, C, K, R\n",
    "    except:\n",
    "        return None, None, None, None"
   ]
  },
  {
   "cell_type": "code",
   "execution_count": 4,
   "metadata": {},
   "outputs": [
    {
     "name": "stdout",
     "output_type": "stream",
     "text": [
      "Projection Matrix : \n",
      " [[ 1.08705782e-03  2.54977186e-04 -2.78833812e-03  6.95493439e-01]\n",
      " [-5.87153430e-04  2.98849545e-03 -5.84591121e-04  7.18519335e-01]\n",
      " [-5.26797446e-07  1.61152247e-07 -5.12468957e-07  4.51147055e-04]] \n",
      "\n",
      "Projection Center : \n",
      " [433.21779347 -74.82221824 411.48104003] \n",
      "\n",
      "Camera Matrix : \n",
      " [[3.66376509e+03 1.21994004e+01 1.58514696e+03]\n",
      " [0.00000000e+00 3.64393861e+03 1.92630130e+03]\n",
      " [0.00000000e+00 0.00000000e+00 1.00000000e+00]] \n",
      "\n",
      "Rotation Matrix : \n",
      " [[-0.69674911  0.00342397  0.71730673]\n",
      " [-0.15596734 -0.97678745 -0.14683484]\n",
      " [ 0.70015346 -0.21418347  0.68110982]] \n",
      "\n"
     ]
    }
   ],
   "source": [
    "x = []\n",
    "X = []\n",
    "def add_point(px_coord, world_coord):\n",
    "    x.append(np.asarray(px_coord))\n",
    "    X.append(np.asarray(world_coord))\n",
    "\n",
    "\n",
    "add_point([1409, 1606], [0, 0, 28])\n",
    "add_point([1134, 1640], [0, 0, 84])\n",
    "add_point([1662, 1610], [28, 0, 0])\n",
    "add_point([1932, 1644], [84, 0, 0])\n",
    "add_point([1666, 1784], [28, 28, 0])\n",
    "add_point([2412, 1917], [168, 28, 0])\n",
    "\n",
    "add_point([1545, 1591], [0, 0, 0])\n",
    "add_point([1789, 1983], [56, 56, 0])\n",
    "add_point([2245, 1685], [140, 0, 0])\n",
    "add_point([1412, 1781], [0, 28, 28])\n",
    "add_point([1280, 1977], [0, 56, 56])\n",
    "add_point([1794, 1627], [56, 0, 0])\n",
    "add_point([1279, 1623], [0, 0, 56])\n",
    "\n",
    "\n",
    "add_point([1658, 2903], [28, 224, 0])\n",
    "add_point([1777, 2960], [56, 224, 0])\n",
    "add_point([1905, 3021], [84, 224, 0])\n",
    "add_point([1161, 2855], [0, 196, 84])\n",
    "add_point([857, 2802], [0, 168, 140])\n",
    "add_point([1545, 2399], [0, 140, 0])\n",
    "add_point([2599, 1949], [196, 28, 0])\n",
    "# add_point([1923, 2012], [84, 56, 0])\n",
    "X = np.asarray(X)\n",
    "x = np.asarray(x)\n",
    "P, C, K, R = dlt(X, x)\n",
    "print(\"Projection Matrix : \\n\", P, \"\\n\")\n",
    "print(\"Projection Center : \\n\", C, \"\\n\")\n",
    "print(\"Camera Matrix : \\n\", K, \"\\n\")\n",
    "print(\"Rotation Matrix : \\n\", R, \"\\n\")"
   ]
  },
  {
   "cell_type": "markdown",
   "metadata": {},
   "source": [
    "### RANSAC based implementation"
   ]
  },
  {
   "cell_type": "code",
   "execution_count": 5,
   "metadata": {},
   "outputs": [
    {
     "name": "stdout",
     "output_type": "stream",
     "text": [
      "Reprojection Error :  2.1761855107203383 \n",
      "\n",
      "Projection Matrix : \n",
      " [[ 1.04510904e-03  2.45328269e-04 -2.79137463e-03  6.95598999e-01]\n",
      " [-6.17569817e-04  2.96451776e-03 -6.08265924e-04  7.18417250e-01]\n",
      " [-5.41423936e-07  1.54195082e-07 -5.21737614e-07  4.50883947e-04]] \n",
      "\n",
      "Projection Center : \n",
      " [425.02544262 -71.30129638 402.06165763] \n",
      "\n",
      "Camera Matrix : \n",
      " [[3.56353378e+03 1.54831839e+01 1.57580259e+03]\n",
      " [0.00000000e+00 3.55675061e+03 1.88217137e+03]\n",
      " [0.00000000e+00 0.00000000e+00 1.00000000e+00]] \n",
      "\n",
      "Rotation Matrix : \n",
      " [[-0.69338852  0.00339812  0.7205559 ]\n",
      " [-0.14706502 -0.97960715 -0.13690039]\n",
      " [ 0.70539651 -0.20089373  0.6797481 ]] \n",
      "\n"
     ]
    }
   ],
   "source": [
    "itr = 27\n",
    "best_P = None\n",
    "best_C = None\n",
    "best_K = None\n",
    "best_R = None\n",
    "best_error = 1000000\n",
    "for iterations in range(itr):\n",
    "    rand = list(range(len(X)))\n",
    "    c = 0\n",
    "    pts_idx = []\n",
    "    while c < 6:\n",
    "        idx = random.randint(0, len(rand) - 1)\n",
    "        pts_idx.append(rand[idx])\n",
    "        rand.remove(rand[idx])\n",
    "        c = c + 1\n",
    "    newx = []\n",
    "    newX = []\n",
    "    for it in pts_idx:\n",
    "        newx.append(np.asarray(x[it]))\n",
    "        newX.append(np.asarray(X[it]))\n",
    "    newx = np.asarray(newx)\n",
    "    newX = np.asarray(newX)\n",
    "    P, C, K, R = dlt(newX, newx)\n",
    "    if P is None:\n",
    "        continue\n",
    "    error = 0\n",
    "    predx = []\n",
    "    for i in range(len(x)):\n",
    "        pt = np.array(X[i])\n",
    "        pt = np.append(pt, 1)\n",
    "        uvw = np.dot(P, np.asarray(pt))\n",
    "        pred_x = uvw[0] / uvw[2]\n",
    "        pred_y = uvw[1] / uvw[2]\n",
    "        predx.append([pred_x, pred_y])\n",
    "        error = error + np.sqrt(((pred_x - x[i][0]) ** 2 + (pred_y - x[i][1]) ** 2))\n",
    "    # error = np.mean((predx - x) ** 2)\n",
    "    error = error / len(x)\n",
    "    if error < best_error:\n",
    "        best_error = error\n",
    "        best_P = P\n",
    "        best_C = C\n",
    "        best_K = K\n",
    "        best_R = R\n",
    "print(\"Reprojection Error : \", best_error, \"\\n\")\n",
    "print(\"Projection Matrix : \\n\", best_P, \"\\n\")\n",
    "print(\"Projection Center : \\n\", best_C, \"\\n\")\n",
    "print(\"Camera Matrix : \\n\", best_K, \"\\n\")\n",
    "print(\"Rotation Matrix : \\n\", best_R, \"\\n\")"
   ]
  },
  {
   "cell_type": "markdown",
   "metadata": {},
   "source": [
    "# Zhangs Method"
   ]
  },
  {
   "cell_type": "code",
   "execution_count": 6,
   "metadata": {},
   "outputs": [
    {
     "name": "stdout",
     "output_type": "stream",
     "text": [
      "[1136.0684 2769.522 ]\n",
      "[1528.  2792.5]\n"
     ]
    }
   ],
   "source": [
    "# Visualizing the corners\n",
    "img = cv2.imread('../input_data/IMG_5457.JPG')\n",
    "ret, corners = cv2.findChessboardCorners(img,(6, 8))\n",
    "corners = corners.reshape(-1,2)\n",
    "\n",
    "img_copy = img.copy()\n",
    "cv2.drawChessboardCorners(img_copy, (6, 8), corners, ret)\n",
    "plt.imshow(img_copy)\n",
    "print(corners[0])\n",
    "print(corners[6])"
   ]
  },
  {
   "cell_type": "code",
   "execution_count": 7,
   "metadata": {},
   "outputs": [],
   "source": [
    "x,y = np.meshgrid(range(6),range(8))\n",
    "world_points = np.hstack((x.reshape(48, 1),y.reshape(48, 1),np.zeros((48, 1)))).astype(np.float32)"
   ]
  },
  {
   "cell_type": "code",
   "execution_count": 8,
   "metadata": {},
   "outputs": [
    {
     "name": "stdout",
     "output_type": "stream",
     "text": [
      "Camera Matrix : \n",
      " [[1.36634814e+04 0.00000000e+00 3.33651179e+03]\n",
      " [0.00000000e+00 1.36813888e+04 1.49657922e+03]\n",
      " [0.00000000e+00 0.00000000e+00 1.00000000e+00]] \n",
      "\n",
      "Reprojection error :  2.4810222497142798 \n",
      "\n"
     ]
    }
   ],
   "source": [
    "_3d = []\n",
    "_2d = []\n",
    "for name in range(5456, 5471):\n",
    "    img = cv2.imread('../input_data/IMG_' + str(name) + '.JPG')\n",
    "    ret, corners = cv2.findChessboardCorners(img,(6, 8))\n",
    "    if ret is True:\n",
    "        _2d.append(corners)\n",
    "        _3d.append(world_points)\n",
    "ret, mtx, dist, rvecs, tvecs = cv2.calibrateCamera(_3d, _2d, (img.shape[1],img.shape[0]), None, None)\n",
    "print(\"Camera Matrix : \\n\", mtx, \"\\n\")\n",
    "print(\"Reprojection error : \", ret, \"\\n\")"
   ]
  },
  {
   "cell_type": "code",
   "execution_count": 9,
   "metadata": {},
   "outputs": [
    {
     "name": "stdout",
     "output_type": "stream",
     "text": [
      "(720, 2)\n"
     ]
    }
   ],
   "source": [
    "projected_points = []\n",
    "for i in range(len(_3d)):\n",
    "    pred2d, _ = cv2.projectPoints(_3d[i], rvecs[i], tvecs[i], mtx, dist)\n",
    "    projected_points.append(pred2d)\n",
    "projected_points = np.asarray(projected_points)\n",
    "projected_points = projected_points.reshape((-1, 2))\n",
    "print(projected_points.shape)"
   ]
  },
  {
   "cell_type": "code",
   "execution_count": 10,
   "metadata": {},
   "outputs": [],
   "source": [
    "### Wireframe\n",
    "c = 0\n",
    "for i in range(5456, 5471):\n",
    "    img = cv2.imread('../input_data/IMG_' + str(i) + '.JPG')\n",
    "    plt.cla()\n",
    "    plt.clf()\n",
    "    x_idx = c\n",
    "    for k in range(8):\n",
    "        xs = []\n",
    "        ys = []\n",
    "        for l in range(6):\n",
    "            xs.append(projected_points[x_idx][0])\n",
    "            ys.append(projected_points[x_idx][1])\n",
    "            x_idx = x_idx + 1\n",
    "        plt.plot(xs, ys, 'ro-')\n",
    "    y_st_idx = c\n",
    "    c = c + 48\n",
    "    for k in range(6):\n",
    "        xs = []\n",
    "        ys = []\n",
    "        idx = y_st_idx + k\n",
    "        for l in range(8):\n",
    "            xs.append(projected_points[idx][0])\n",
    "            ys.append(projected_points[idx][1])\n",
    "            idx = idx + 6\n",
    "        plt.plot(xs, ys, 'ro-')\n",
    "    plt.imshow(img)\n",
    "    plt.title('Wireframe from reprojected points')\n",
    "    plt.savefig('../output_data/IMG_' + str(i) + '.png')"
   ]
  },
  {
   "cell_type": "code",
   "execution_count": null,
   "metadata": {},
   "outputs": [],
   "source": []
  }
 ],
 "metadata": {
  "kernelspec": {
   "display_name": "Base",
   "language": "python",
   "name": "myenv"
  },
  "language_info": {
   "codemirror_mode": {
    "name": "ipython",
    "version": 3
   },
   "file_extension": ".py",
   "mimetype": "text/x-python",
   "name": "python",
   "nbconvert_exporter": "python",
   "pygments_lexer": "ipython3",
   "version": "3.7.4"
  }
 },
 "nbformat": 4,
 "nbformat_minor": 2
}
